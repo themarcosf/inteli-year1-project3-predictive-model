{
 "cells": [
  {
   "cell_type": "markdown",
   "metadata": {
    "id": "verGwdeVSwuL",
    "jp-MarkdownHeadingCollapsed": true,
    "tags": []
   },
   "source": [
    "# **Imports**"
   ]
  },
  {
   "cell_type": "code",
   "execution_count": 1,
   "metadata": {
    "colab": {
     "base_uri": "https://localhost:8080/"
    },
    "executionInfo": {
     "elapsed": 56277,
     "status": "ok",
     "timestamp": 1664802293599,
     "user": {
      "displayName": "Joao Rodrigues",
      "userId": "06563068818173436791"
     },
     "user_tz": 180
    },
    "id": "tFyPIAtyIIVH",
    "outputId": "62e24a99-7c34-4ad1-b916-7c45b2d2951f"
   },
   "outputs": [
    {
     "name": "stdout",
     "output_type": "stream",
     "text": [
      "Mounted at /content/drive\n"
     ]
    }
   ],
   "source": [
    "from google.colab import drive\n",
    "drive.mount(\"/content/drive\")"
   ]
  },
  {
   "cell_type": "code",
   "execution_count": 2,
   "metadata": {
    "executionInfo": {
     "elapsed": 308,
     "status": "ok",
     "timestamp": 1664802311371,
     "user": {
      "displayName": "Joao Rodrigues",
      "userId": "06563068818173436791"
     },
     "user_tz": 180
    },
    "id": "heltjridU1S4"
   },
   "outputs": [],
   "source": [
    "# ------------------------------------------\n",
    "# desabilita warnings\n",
    "# ------------------------------------------\n",
    "import warnings\n",
    "warnings.filterwarnings('ignore')"
   ]
  },
  {
   "cell_type": "code",
   "execution_count": 3,
   "metadata": {
    "executionInfo": {
     "elapsed": 2582,
     "status": "ok",
     "timestamp": 1664802315776,
     "user": {
      "displayName": "Joao Rodrigues",
      "userId": "06563068818173436791"
     },
     "user_tz": 180
    },
    "id": "cwrCEphoItB3"
   },
   "outputs": [],
   "source": [
    "# ------------------------------------------\n",
    "# bibliotecas principais\n",
    "# ------------------------------------------\n",
    "import numpy as np\n",
    "import pandas as pd\n",
    "import matplotlib.pyplot as plt\n",
    "import seaborn as sns\n",
    "import plotly.express as px"
   ]
  },
  {
   "cell_type": "code",
   "execution_count": 4,
   "metadata": {
    "executionInfo": {
     "elapsed": 10,
     "status": "ok",
     "timestamp": 1664802315778,
     "user": {
      "displayName": "Joao Rodrigues",
      "userId": "06563068818173436791"
     },
     "user_tz": 180
    },
    "id": "Ghwz6Dg-Tn_M"
   },
   "outputs": [],
   "source": [
    "from sklearn.metrics import confusion_matrix\n",
    "from sklearn.metrics import ConfusionMatrixDisplay\n",
    "from sklearn.metrics import classification_report"
   ]
  },
  {
   "cell_type": "code",
   "execution_count": 5,
   "metadata": {
    "executionInfo": {
     "elapsed": 2410,
     "status": "ok",
     "timestamp": 1664802320491,
     "user": {
      "displayName": "Joao Rodrigues",
      "userId": "06563068818173436791"
     },
     "user_tz": 180
    },
    "id": "3nba8rEIaSRE"
   },
   "outputs": [],
   "source": [
    "df = pd.read_csv('/content/drive/Shareddrives/grupo4-rappi-hour/bases-rappi/df-oficial.csv')"
   ]
  },
  {
   "cell_type": "code",
   "execution_count": 6,
   "metadata": {
    "executionInfo": {
     "elapsed": 630,
     "status": "ok",
     "timestamp": 1664802321112,
     "user": {
      "displayName": "Joao Rodrigues",
      "userId": "06563068818173436791"
     },
     "user_tz": 180
    },
    "id": "EUsOH9SrXL5f"
   },
   "outputs": [],
   "source": [
    "df = df.drop(columns = ['Unnamed: 0'])"
   ]
  },
  {
   "cell_type": "code",
   "execution_count": 7,
   "metadata": {
    "colab": {
     "base_uri": "https://localhost:8080/"
    },
    "executionInfo": {
     "elapsed": 15,
     "status": "ok",
     "timestamp": 1664802322820,
     "user": {
      "displayName": "Joao Rodrigues",
      "userId": "06563068818173436791"
     },
     "user_tz": 180
    },
    "id": "wXM78S8-cL9-",
    "outputId": "c0c71fd6-6743-4919-cc77-9931f4e191b7"
   },
   "outputs": [
    {
     "name": "stdout",
     "output_type": "stream",
     "text": [
      "<class 'pandas.core.frame.DataFrame'>\n",
      "RangeIndex: 157470 entries, 0 to 157469\n",
      "Data columns (total 33 columns):\n",
      " #   Column                      Non-Null Count   Dtype  \n",
      "---  ------                      --------------   -----  \n",
      " 0   IS_ACTIVE                   157470 non-null  int64  \n",
      " 1   AUTO_ACEITE                 157470 non-null  int64  \n",
      " 2   COOKING_TIME_MEDIO          157470 non-null  float64\n",
      " 3   ITENS_MEDIO                 157470 non-null  float64\n",
      " 4   DISTANCE_TO_USER            157470 non-null  float64\n",
      " 5   CANCELS_OPS_RT              157470 non-null  float64\n",
      " 6   ACCEPTANCE_RATE             157470 non-null  float64\n",
      " 7   PUNISHMENT_MINUTES          157470 non-null  float64\n",
      " 8   TEMPORARY_BLOCKS            157470 non-null  float64\n",
      " 9   WARNINGS                    157470 non-null  float64\n",
      " 10  ORDERS_PER_HOURS_CONNECTED  157470 non-null  float64\n",
      " 11  age-1st-qtile               157470 non-null  int64  \n",
      " 12  age-2nd-qtile               157470 non-null  int64  \n",
      " 13  age-3rd-qtile               157470 non-null  int64  \n",
      " 14  age-4th-qtile               157470 non-null  int64  \n",
      " 15  bicycle                     157470 non-null  int64  \n",
      " 16  car                         157470 non-null  int64  \n",
      " 17  cargo_van                   157470 non-null  int64  \n",
      " 18  motorbike                   157470 non-null  int64  \n",
      " 19  motorbike_trailer           157470 non-null  int64  \n",
      " 20  neither                     157470 non-null  int64  \n",
      " 21  total_earnings              157470 non-null  float64\n",
      " 22  incidents_na                157470 non-null  int64  \n",
      " 23  incidents_1                 157470 non-null  int64  \n",
      " 24  incidents_2                 157470 non-null  int64  \n",
      " 25  incidents_3                 157470 non-null  int64  \n",
      " 26  incidents_4                 157470 non-null  int64  \n",
      " 27  incidents_5                 157470 non-null  int64  \n",
      " 28  incidents_6                 157470 non-null  int64  \n",
      " 29  incidents_7                 157470 non-null  int64  \n",
      " 30  incidents_8                 157470 non-null  int64  \n",
      " 31  incidents_9                 157470 non-null  int64  \n",
      " 32  incidents_10                157470 non-null  int64  \n",
      "dtypes: float64(10), int64(23)\n",
      "memory usage: 39.6 MB\n"
     ]
    }
   ],
   "source": [
    "df.info()"
   ]
  },
  {
   "cell_type": "markdown",
   "metadata": {
    "id": "-EF6LOOw-gOc",
    "jp-MarkdownHeadingCollapsed": true,
    "tags": []
   },
   "source": [
    "# Features / Target\n"
   ]
  },
  {
   "cell_type": "code",
   "execution_count": 8,
   "metadata": {
    "executionInfo": {
     "elapsed": 833,
     "status": "ok",
     "timestamp": 1664802327254,
     "user": {
      "displayName": "Joao Rodrigues",
      "userId": "06563068818173436791"
     },
     "user_tz": 180
    },
    "id": "mAKDJGKp-k-E"
   },
   "outputs": [],
   "source": [
    "x = df.drop(columns=\"IS_ACTIVE\") # features\n",
    "y = df[\"IS_ACTIVE\"] # target"
   ]
  },
  {
   "cell_type": "code",
   "execution_count": null,
   "metadata": {
    "colab": {
     "base_uri": "https://localhost:8080/"
    },
    "executionInfo": {
     "elapsed": 5,
     "status": "ok",
     "timestamp": 1663691629153,
     "user": {
      "displayName": "Mateus Almeida",
      "userId": "05861232968898431745"
     },
     "user_tz": 180
    },
    "id": "vgxPyn0m-oy6",
    "outputId": "ddfab6da-457a-4771-9376-7fa5e1a7cb0a"
   },
   "outputs": [
    {
     "data": {
      "text/plain": [
       "0         1\n",
       "1         1\n",
       "2         1\n",
       "3         1\n",
       "4         1\n",
       "         ..\n",
       "157465    0\n",
       "157466    0\n",
       "157467    0\n",
       "157468    0\n",
       "157469    0\n",
       "Name: IS_ACTIVE, Length: 157470, dtype: int64"
      ]
     },
     "execution_count": 9,
     "metadata": {},
     "output_type": "execute_result"
    }
   ],
   "source": [
    "y.squeeze()"
   ]
  },
  {
   "cell_type": "code",
   "execution_count": 9,
   "metadata": {
    "executionInfo": {
     "elapsed": 694,
     "status": "ok",
     "timestamp": 1664802329675,
     "user": {
      "displayName": "Joao Rodrigues",
      "userId": "06563068818173436791"
     },
     "user_tz": 180
    },
    "id": "c-XZoe5WA7kC"
   },
   "outputs": [],
   "source": [
    "scoring = ['precision_macro', 'recall_macro']"
   ]
  },
  {
   "cell_type": "code",
   "execution_count": 10,
   "metadata": {
    "executionInfo": {
     "elapsed": 12,
     "status": "ok",
     "timestamp": 1664802330339,
     "user": {
      "displayName": "Joao Rodrigues",
      "userId": "06563068818173436791"
     },
     "user_tz": 180
    },
    "id": "olYBpo4pB0GU"
   },
   "outputs": [],
   "source": [
    "from sklearn.model_selection import cross_validate"
   ]
  },
  {
   "cell_type": "markdown",
   "metadata": {
    "id": "7HigV0WnSz2o",
    "jp-MarkdownHeadingCollapsed": true,
    "tags": []
   },
   "source": [
    "# Modelos - Cross Validation \n",
    "\n",
    "Nesta seção faremos o cross validation, validação cruzada, dos algoritmos de machine learning escolhidos"
   ]
  },
  {
   "cell_type": "markdown",
   "metadata": {
    "id": "NgqmHZVHAc6-",
    "jp-MarkdownHeadingCollapsed": true,
    "tags": []
   },
   "source": [
    "## AdaBoost Cross Validation"
   ]
  },
  {
   "cell_type": "code",
   "execution_count": null,
   "metadata": {
    "id": "tFjhVTwmAc6-"
   },
   "outputs": [],
   "source": [
    "from sklearn.ensemble import AdaBoostClassifier\n",
    "\n",
    "adaboost = AdaBoostClassifier()"
   ]
  },
  {
   "cell_type": "code",
   "execution_count": null,
   "metadata": {
    "id": "IwGbu6YvAc6-"
   },
   "outputs": [],
   "source": [
    "ada_scores = cross_validate(adaboost, x, y, cv=5, error_score='raise', scoring=scoring)"
   ]
  },
  {
   "cell_type": "code",
   "execution_count": null,
   "metadata": {
    "colab": {
     "base_uri": "https://localhost:8080/"
    },
    "executionInfo": {
     "elapsed": 279,
     "status": "ok",
     "timestamp": 1663609992909,
     "user": {
      "displayName": "Mateus Almeida",
      "userId": "05861232968898431745"
     },
     "user_tz": 180
    },
    "id": "BFejSFEmAc6-",
    "outputId": "bac4573d-a38e-481b-d3e7-d1b04db89955"
   },
   "outputs": [
    {
     "data": {
      "text/plain": [
       "{'fit_time': array([15.11308432,  9.51332951,  9.46014214,  9.44577193, 10.58348393]),\n",
       " 'score_time': array([0.34097242, 0.35418534, 0.36006856, 0.35078287, 0.34775138]),\n",
       " 'test_precision_macro': array([0.71428585, 0.88704187, 0.83881698, 0.87473748, 0.87449879]),\n",
       " 'test_recall_macro': array([0.69588705, 0.79010995, 0.81340696, 0.78468703, 0.78559256])}"
      ]
     },
     "execution_count": 25,
     "metadata": {},
     "output_type": "execute_result"
    }
   ],
   "source": [
    "ada_scores"
   ]
  },
  {
   "cell_type": "markdown",
   "metadata": {
    "id": "A8Dvr1iYCH9L",
    "jp-MarkdownHeadingCollapsed": true,
    "tags": []
   },
   "source": [
    "## RandomForest Cross Validation"
   ]
  },
  {
   "cell_type": "code",
   "execution_count": null,
   "metadata": {
    "id": "RcxM1LPTCH9M"
   },
   "outputs": [],
   "source": [
    "from sklearn.ensemble import RandomForestClassifier\n",
    "\n",
    "ranfor = RandomForestClassifier()"
   ]
  },
  {
   "cell_type": "code",
   "execution_count": null,
   "metadata": {
    "id": "6c8V7C9yCH9M"
   },
   "outputs": [],
   "source": [
    "ranfor_scores = cross_validate(ranfor, x, y, cv=5, error_score='raise', scoring=scoring)"
   ]
  },
  {
   "cell_type": "code",
   "execution_count": null,
   "metadata": {
    "colab": {
     "base_uri": "https://localhost:8080/"
    },
    "executionInfo": {
     "elapsed": 312,
     "status": "ok",
     "timestamp": 1663610602250,
     "user": {
      "displayName": "Mateus Almeida",
      "userId": "05861232968898431745"
     },
     "user_tz": 180
    },
    "id": "WZH0ynKLCH9N",
    "outputId": "f8e4e8fd-0be6-4095-b208-6be9b2fe6183"
   },
   "outputs": [
    {
     "data": {
      "text/plain": [
       "{'fit_time': array([25.48084664, 27.60660076, 27.29132056, 26.0064764 , 26.10364151]),\n",
       " 'score_time': array([0.90615225, 0.93442965, 1.00150537, 0.96426654, 0.94860005]),\n",
       " 'test_precision_macro': array([0.86148803, 0.89675985, 0.87479634, 0.8784946 , 0.87770068]),\n",
       " 'test_recall_macro': array([0.79310455, 0.83411478, 0.8493921 , 0.83415747, 0.82754613])}"
      ]
     },
     "execution_count": 18,
     "metadata": {},
     "output_type": "execute_result"
    }
   ],
   "source": [
    "ranfor_scores"
   ]
  },
  {
   "cell_type": "markdown",
   "metadata": {
    "id": "Hu12VwdO8dsi",
    "jp-MarkdownHeadingCollapsed": true,
    "tags": []
   },
   "source": [
    "## Lgbm Cross Validation\n"
   ]
  },
  {
   "cell_type": "code",
   "execution_count": 21,
   "metadata": {
    "executionInfo": {
     "elapsed": 437,
     "status": "ok",
     "timestamp": 1664804705467,
     "user": {
      "displayName": "Joao Rodrigues",
      "userId": "06563068818173436791"
     },
     "user_tz": 180
    },
    "id": "riA4Zb6P8dGT"
   },
   "outputs": [],
   "source": [
    "import lightgbm as lgb\n",
    "\n",
    "lgb = lgb.LGBMClassifier()"
   ]
  },
  {
   "cell_type": "code",
   "execution_count": 12,
   "metadata": {
    "executionInfo": {
     "elapsed": 33400,
     "status": "ok",
     "timestamp": 1664802377708,
     "user": {
      "displayName": "Joao Rodrigues",
      "userId": "06563068818173436791"
     },
     "user_tz": 180
    },
    "id": "RS32haO983ET"
   },
   "outputs": [],
   "source": [
    "scores_lgb = cross_validate(lgb, x, y, cv=5, error_score='raise', scoring=scoring)"
   ]
  },
  {
   "cell_type": "code",
   "execution_count": 13,
   "metadata": {
    "colab": {
     "base_uri": "https://localhost:8080/"
    },
    "executionInfo": {
     "elapsed": 33,
     "status": "ok",
     "timestamp": 1664802377709,
     "user": {
      "displayName": "Joao Rodrigues",
      "userId": "06563068818173436791"
     },
     "user_tz": 180
    },
    "id": "yuhGT65U86Gi",
    "outputId": "dc4202b6-ddc4-4913-f07d-29ce3723cb14"
   },
   "outputs": [
    {
     "data": {
      "text/plain": [
       "{'fit_time': array([5.03361535, 5.51448822, 8.10115027, 7.29791737, 4.95582581]),\n",
       " 'score_time': array([0.42752242, 0.39631033, 0.90471911, 0.39884233, 0.40124345]),\n",
       " 'test_precision_macro': array([0.86681858, 0.90165403, 0.87691125, 0.88097714, 0.87797645]),\n",
       " 'test_recall_macro': array([0.8279951 , 0.84859355, 0.85780917, 0.84447514, 0.83471705])}"
      ]
     },
     "execution_count": 13,
     "metadata": {},
     "output_type": "execute_result"
    }
   ],
   "source": [
    "scores_lgb"
   ]
  },
  {
   "cell_type": "markdown",
   "metadata": {
    "id": "p_Hp4XAEiZK9",
    "jp-MarkdownHeadingCollapsed": true,
    "tags": []
   },
   "source": [
    "# Seção de Balanceamento e Nova Rodada do Método de Validação Cruzada\n",
    "\n",
    "Nesta seção realizamos novamente a validação cruzada dos modelos, mas desta vez com o balanceamento das classes contidas no target do modelo, neste caso a diminuição do número de amostras da classe majoritária."
   ]
  },
  {
   "cell_type": "code",
   "execution_count": null,
   "metadata": {
    "id": "4bRQWGF2icfS"
   },
   "outputs": [],
   "source": [
    "from imblearn.under_sampling import RandomUnderSampler\n",
    "\n",
    "rus = RandomUnderSampler(random_state=13)\n",
    "x_resampled, y_resampled = rus.fit_resample(x, y)"
   ]
  },
  {
   "cell_type": "code",
   "execution_count": null,
   "metadata": {
    "id": "fg9r_MZlwqHJ"
   },
   "outputs": [],
   "source": [
    "from sklearn.model_selection import cross_validate\n",
    "\n",
    "scores_logreg_resampled = cross_validate(logreg, x_resampled, y_resampled, cv=5, scoring=scoring, error_score='raise')"
   ]
  },
  {
   "cell_type": "code",
   "execution_count": null,
   "metadata": {
    "colab": {
     "base_uri": "https://localhost:8080/"
    },
    "executionInfo": {
     "elapsed": 555,
     "status": "ok",
     "timestamp": 1663691909402,
     "user": {
      "displayName": "Mateus Almeida",
      "userId": "05861232968898431745"
     },
     "user_tz": 180
    },
    "id": "Tj7McicdwqHJ",
    "outputId": "41d83013-78b4-480d-8249-9ab8d535877b"
   },
   "outputs": [
    {
     "data": {
      "text/plain": [
       "{'fit_time': array([0.58538127, 0.66056943, 0.58818173, 0.5420711 , 0.54924512]),\n",
       " 'score_time': array([0.01806712, 0.01891398, 0.01867294, 0.01741815, 0.0174768 ]),\n",
       " 'test_precision_macro': array([0.15814015, 0.1462286 , 0.13550834, 0.12824378, 0.11316322]),\n",
       " 'test_recall_macro': array([0.25574266, 0.23006631, 0.20756191, 0.19408953, 0.16966536])}"
      ]
     },
     "execution_count": 20,
     "metadata": {},
     "output_type": "execute_result"
    }
   ],
   "source": [
    "scores_logreg_resampled"
   ]
  },
  {
   "cell_type": "markdown",
   "metadata": {
    "id": "qKuqxbyf9w8O",
    "jp-MarkdownHeadingCollapsed": true,
    "tags": []
   },
   "source": [
    "## LGBM Resampled Cross Validation\n"
   ]
  },
  {
   "cell_type": "code",
   "execution_count": null,
   "metadata": {
    "id": "EwLmJ3R39w8P"
   },
   "outputs": [],
   "source": [
    "scores_lgb_resampled = cross_validate(lgb, x_resampled, y_resampled, cv=5, error_score='raise', scoring=scoring)"
   ]
  },
  {
   "cell_type": "code",
   "execution_count": null,
   "metadata": {
    "colab": {
     "base_uri": "https://localhost:8080/"
    },
    "executionInfo": {
     "elapsed": 265,
     "status": "ok",
     "timestamp": 1663611492960,
     "user": {
      "displayName": "Mateus Almeida",
      "userId": "05861232968898431745"
     },
     "user_tz": 180
    },
    "id": "9vp6Q3XF9w8Q",
    "outputId": "d3c2c77a-3030-4084-d36d-718e3132dbeb"
   },
   "outputs": [
    {
     "data": {
      "text/plain": [
       "{'fit_time': array([2.05402064, 2.0207746 , 1.98676229, 2.02315831, 1.98045421]),\n",
       " 'score_time': array([0.13877368, 0.1425364 , 0.1385622 , 0.14075255, 0.13506341]),\n",
       " 'test_precision_macro': array([0.8661568 , 0.86622151, 0.87163214, 0.86739217, 0.87220057]),\n",
       " 'test_recall_macro': array([0.86380102, 0.86599055, 0.87085295, 0.86710126, 0.87196871])}"
      ]
     },
     "execution_count": 26,
     "metadata": {},
     "output_type": "execute_result"
    }
   ],
   "source": [
    "scores_lgb_resampled"
   ]
  },
  {
   "cell_type": "markdown",
   "metadata": {
    "id": "oNa5dfL4xcih",
    "jp-MarkdownHeadingCollapsed": true,
    "tags": []
   },
   "source": [
    "## AdaBoost Cross Validation"
   ]
  },
  {
   "cell_type": "code",
   "execution_count": null,
   "metadata": {
    "id": "0nKvI59Wxcih"
   },
   "outputs": [],
   "source": [
    "scores_ada_resampled = cross_validate(adaboost, x_resampled, y_resampled, cv=5, error_score='raise', scoring=scoring)"
   ]
  },
  {
   "cell_type": "code",
   "execution_count": null,
   "metadata": {
    "colab": {
     "base_uri": "https://localhost:8080/"
    },
    "executionInfo": {
     "elapsed": 239,
     "status": "ok",
     "timestamp": 1663692114916,
     "user": {
      "displayName": "Mateus Almeida",
      "userId": "05861232968898431745"
     },
     "user_tz": 180
    },
    "id": "KtHEg3Jtxcii",
    "outputId": "ae7bf9dd-4438-4319-88e4-20e1e1dc25b0"
   },
   "outputs": [
    {
     "data": {
      "text/plain": [
       "{'fit_time': array([3.33178544, 3.46661139, 3.31442618, 3.77578759, 3.96159816]),\n",
       " 'score_time': array([0.163908  , 0.15446496, 0.16484952, 0.15984869, 0.16902947]),\n",
       " 'test_precision_macro': array([0.74632501, 0.82260446, 0.82958718, 0.82538933, 0.82973512]),\n",
       " 'test_recall_macro': array([0.70647826, 0.81289982, 0.8220039 , 0.81399392, 0.82199044])}"
      ]
     },
     "execution_count": 23,
     "metadata": {},
     "output_type": "execute_result"
    }
   ],
   "source": [
    "scores_ada_resampled"
   ]
  },
  {
   "cell_type": "markdown",
   "metadata": {
    "id": "z2S5G-3Qxcii",
    "jp-MarkdownHeadingCollapsed": true,
    "tags": []
   },
   "source": [
    "## RandomForest Cross Validation"
   ]
  },
  {
   "cell_type": "code",
   "execution_count": null,
   "metadata": {
    "id": "GKC7nMQLxcii"
   },
   "outputs": [],
   "source": [
    "scores_ranfor_resampled = cross_validate(ranfor, x_resampled, y_resampled, cv=5, error_score='raise', scoring=scoring)"
   ]
  },
  {
   "cell_type": "code",
   "execution_count": null,
   "metadata": {
    "colab": {
     "base_uri": "https://localhost:8080/"
    },
    "executionInfo": {
     "elapsed": 4,
     "status": "ok",
     "timestamp": 1663692171145,
     "user": {
      "displayName": "Mateus Almeida",
      "userId": "05861232968898431745"
     },
     "user_tz": 180
    },
    "id": "8mDOq7SWxcii",
    "outputId": "62c9a33e-90ff-4803-9f00-2f8a348b9ee6"
   },
   "outputs": [
    {
     "data": {
      "text/plain": [
       "{'fit_time': array([ 7.65265751,  7.36240768,  7.65677857,  9.59747124, 11.40754175]),\n",
       " 'score_time': array([0.32046914, 0.29967475, 0.30920959, 0.33145308, 0.33207035]),\n",
       " 'test_precision_macro': array([0.85366173, 0.86135902, 0.85972192, 0.86061424, 0.86249916]),\n",
       " 'test_recall_macro': array([0.85093705, 0.86086357, 0.85868539, 0.86023468, 0.86197306])}"
      ]
     },
     "execution_count": 26,
     "metadata": {},
     "output_type": "execute_result"
    }
   ],
   "source": [
    "scores_ranfor_resampled"
   ]
  }
 ],
 "metadata": {
  "colab": {
   "collapsed_sections": [
    "a8UIL2qCV1k4",
    "BvJJIgdBV368",
    "D5jM6kwvX1MP",
    "c2RVhsreX3Hu",
    "f3zH7IAYYKf-",
    "Zes8rJvYjKbk",
    "gM-BLmx3ikUZ",
    "LNbKMSY2hyy4",
    "U3NA6eURhm98"
   ],
   "provenance": []
  },
  "kernelspec": {
   "display_name": "Python 3 (ipykernel)",
   "language": "python",
   "name": "python3"
  },
  "language_info": {
   "codemirror_mode": {
    "name": "ipython",
    "version": 3
   },
   "file_extension": ".py",
   "mimetype": "text/x-python",
   "name": "python",
   "nbconvert_exporter": "python",
   "pygments_lexer": "ipython3",
   "version": "3.10.5"
  }
 },
 "nbformat": 4,
 "nbformat_minor": 4
}
