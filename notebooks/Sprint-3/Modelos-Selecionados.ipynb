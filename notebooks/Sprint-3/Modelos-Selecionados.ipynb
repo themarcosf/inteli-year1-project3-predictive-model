{
 "cells": [
  {
   "cell_type": "markdown",
   "metadata": {
    "id": "verGwdeVSwuL",
    "jp-MarkdownHeadingCollapsed": true,
    "tags": []
   },
   "source": [
    "# Imports"
   ]
  },
  {
   "cell_type": "code",
   "execution_count": 1,
   "metadata": {
    "colab": {
     "base_uri": "https://localhost:8080/"
    },
    "executionInfo": {
     "elapsed": 47065,
     "status": "ok",
     "timestamp": 1664884714315,
     "user": {
      "displayName": "Joao Rodrigues",
      "userId": "06563068818173436791"
     },
     "user_tz": 180
    },
    "id": "tFyPIAtyIIVH",
    "outputId": "1fbb9448-b396-4a01-c547-4b377fcd2ea9"
   },
   "outputs": [
    {
     "name": "stdout",
     "output_type": "stream",
     "text": [
      "Mounted at /content/drive\n"
     ]
    }
   ],
   "source": [
    "from google.colab import drive\n",
    "drive.mount(\"/content/drive\")"
   ]
  },
  {
   "cell_type": "code",
   "execution_count": 2,
   "metadata": {
    "executionInfo": {
     "elapsed": 15,
     "status": "ok",
     "timestamp": 1664884714316,
     "user": {
      "displayName": "Joao Rodrigues",
      "userId": "06563068818173436791"
     },
     "user_tz": 180
    },
    "id": "heltjridU1S4"
   },
   "outputs": [],
   "source": [
    "# ------------------------------------------\n",
    "# desabilita warnings\n",
    "# ------------------------------------------\n",
    "import warnings\n",
    "warnings.filterwarnings('ignore')"
   ]
  },
  {
   "cell_type": "code",
   "execution_count": 3,
   "metadata": {
    "executionInfo": {
     "elapsed": 1583,
     "status": "ok",
     "timestamp": 1664884715890,
     "user": {
      "displayName": "Joao Rodrigues",
      "userId": "06563068818173436791"
     },
     "user_tz": 180
    },
    "id": "cwrCEphoItB3"
   },
   "outputs": [],
   "source": [
    "# ------------------------------------------\n",
    "# bibliotecas principais\n",
    "# ------------------------------------------\n",
    "import numpy as np\n",
    "import pandas as pd\n",
    "import matplotlib.pyplot as plt\n",
    "import seaborn as sns\n",
    "import plotly.express as px\n",
    "from sklearn.model_selection import GridSearchCV"
   ]
  },
  {
   "cell_type": "code",
   "execution_count": 4,
   "metadata": {
    "executionInfo": {
     "elapsed": 526,
     "status": "ok",
     "timestamp": 1664884716395,
     "user": {
      "displayName": "Joao Rodrigues",
      "userId": "06563068818173436791"
     },
     "user_tz": 180
    },
    "id": "Ghwz6Dg-Tn_M"
   },
   "outputs": [],
   "source": [
    "from sklearn.metrics import confusion_matrix\n",
    "from sklearn.metrics import ConfusionMatrixDisplay\n",
    "from sklearn.metrics import classification_report"
   ]
  },
  {
   "cell_type": "markdown",
   "metadata": {
    "id": "ftdquLORTFXw"
   },
   "source": [
    "## Features / Target\n"
   ]
  },
  {
   "cell_type": "code",
   "execution_count": null,
   "metadata": {},
   "outputs": [],
   "source": [
    "df = pd.read_csv('/content/drive/Shareddrives/grupo4-rappi-hour/bases-rappi/df-oficial.csv')\n",
    "\n",
    "df = df.drop(columns = ['Unnamed: 0'])\n",
    "\n",
    "df.info()"
   ]
  },
  {
   "cell_type": "code",
   "execution_count": 9,
   "metadata": {
    "executionInfo": {
     "elapsed": 56,
     "status": "ok",
     "timestamp": 1664884724577,
     "user": {
      "displayName": "Joao Rodrigues",
      "userId": "06563068818173436791"
     },
     "user_tz": 180
    },
    "id": "9ZlHA9PbPfMl"
   },
   "outputs": [],
   "source": [
    "x = df.drop(columns=\"IS_ACTIVE\") # features\n",
    "y = df[\"IS_ACTIVE\"] # target"
   ]
  },
  {
   "cell_type": "code",
   "execution_count": 10,
   "metadata": {
    "executionInfo": {
     "elapsed": 58,
     "status": "ok",
     "timestamp": 1664884724580,
     "user": {
      "displayName": "Joao Rodrigues",
      "userId": "06563068818173436791"
     },
     "user_tz": 180
    },
    "id": "z-_3MPFwPjGz"
   },
   "outputs": [],
   "source": [
    "from sklearn.model_selection import train_test_split\n",
    "\n",
    "x_train, x_test, y_train, y_test = train_test_split(x, y, \n",
    "                                                    test_size = 0.3, \n",
    "                                                    random_state = 1)"
   ]
  },
  {
   "cell_type": "code",
   "execution_count": 11,
   "metadata": {
    "executionInfo": {
     "elapsed": 59,
     "status": "ok",
     "timestamp": 1664884724582,
     "user": {
      "displayName": "Joao Rodrigues",
      "userId": "06563068818173436791"
     },
     "user_tz": 180
    },
    "id": "MZusRPb49Qba"
   },
   "outputs": [],
   "source": [
    "from sklearn.preprocessing import MinMaxScaler\n",
    "\n",
    "# instaciando o objeto scaler\n",
    "scaler = MinMaxScaler()\n",
    "\n",
    "# fit + transform no conjunto de treino\n",
    "# utiliza apenas o transform : fit exclusivo no conjunto de treino\n",
    "x_train[list(x_train.columns)] = scaler.fit_transform(x_train[list(x_train.columns)])\n",
    "\n",
    "# scaler no conjunto de teste\n",
    "x_test[list(x_test.columns)] = scaler.transform(x_test[list(x_test.columns)])"
   ]
  },
  {
   "cell_type": "code",
   "execution_count": 12,
   "metadata": {
    "colab": {
     "base_uri": "https://localhost:8080/"
    },
    "executionInfo": {
     "elapsed": 60,
     "status": "ok",
     "timestamp": 1664884724584,
     "user": {
      "displayName": "Joao Rodrigues",
      "userId": "06563068818173436791"
     },
     "user_tz": 180
    },
    "id": "kr-EHRKSQWaF",
    "outputId": "034803bc-9626-469e-b1bd-885a43ee483a"
   },
   "outputs": [
    {
     "data": {
      "text/plain": [
       "19778     2\n",
       "96599     2\n",
       "58231     2\n",
       "11258     2\n",
       "67121     2\n",
       "         ..\n",
       "73349     2\n",
       "109259    2\n",
       "50057     2\n",
       "5192      1\n",
       "128037    2\n",
       "Name: IS_ACTIVE, Length: 110229, dtype: int64"
      ]
     },
     "execution_count": 12,
     "metadata": {},
     "output_type": "execute_result"
    }
   ],
   "source": [
    "y_train.squeeze()"
   ]
  },
  {
   "cell_type": "code",
   "execution_count": 13,
   "metadata": {
    "executionInfo": {
     "elapsed": 47,
     "status": "ok",
     "timestamp": 1664884724585,
     "user": {
      "displayName": "Joao Rodrigues",
      "userId": "06563068818173436791"
     },
     "user_tz": 180
    },
    "id": "4kVUJl8eS-MQ"
   },
   "outputs": [],
   "source": [
    "y_true = y_test"
   ]
  },
  {
   "cell_type": "markdown",
   "metadata": {
    "id": "7HigV0WnSz2o",
    "jp-MarkdownHeadingCollapsed": true,
    "tags": []
   },
   "source": [
    "# Seção Modelos"
   ]
  },
  {
   "cell_type": "markdown",
   "metadata": {
    "id": "a8UIL2qCV1k4",
    "tags": []
   },
   "source": [
    "## AdaBoost"
   ]
  },
  {
   "cell_type": "code",
   "execution_count": null,
   "metadata": {
    "id": "MtLhMCzSV1k4"
   },
   "outputs": [],
   "source": [
    "from sklearn.ensemble import AdaBoostClassifier\n",
    "\n",
    "# Instaciação do obj Algoritmo\n",
    "adaboost = AdaBoostClassifier()\n",
    "# Treino # x = Features, y = Label/Target\n",
    "adaboost.fit( x_train, y_train.squeeze() ) # squeeze() -> df para series"
   ]
  },
  {
   "cell_type": "code",
   "execution_count": null,
   "metadata": {
    "id": "ae5gZJZ5V1k5"
   },
   "outputs": [],
   "source": [
    "print('Acuracidade (treino): ', adaboost.score( x_train, y_train ))\n",
    "print('Acuracidade (teste): ', adaboost.score( x_test, y_test ))"
   ]
  },
  {
   "cell_type": "code",
   "execution_count": null,
   "metadata": {
    "id": "e2p5Rh4SV1k5"
   },
   "outputs": [],
   "source": [
    "y_pred_adaboost = adaboost.predict(x_test)"
   ]
  },
  {
   "cell_type": "code",
   "execution_count": null,
   "metadata": {
    "id": "zGe_ragFV1k5"
   },
   "outputs": [],
   "source": [
    "cm_adaboost = confusion_matrix(y_true, y_pred_adaboost, normalize = 'true')\n",
    "cm_adaboost"
   ]
  },
  {
   "cell_type": "code",
   "execution_count": null,
   "metadata": {
    "id": "jOWuI7XfV1k6"
   },
   "outputs": [],
   "source": [
    "# versão visual mais bonita da matriz\n",
    "disp_adaboost = ConfusionMatrixDisplay(confusion_matrix=cm_adaboost, \n",
    "                              display_labels=adaboost.classes_)\n",
    "\n",
    "disp_adaboost.plot()\n",
    "plt.show()"
   ]
  },
  {
   "cell_type": "code",
   "execution_count": null,
   "metadata": {
    "id": "l61Ggs_HV1k6"
   },
   "outputs": [],
   "source": [
    "print(classification_report(y_test, y_pred_adaboost))"
   ]
  },
  {
   "cell_type": "markdown",
   "metadata": {},
   "source": [
    "### Alteração nos parâmetros do modelo AdaBoost - Hiperparametrização do Modelo "
   ]
  },
  {
   "cell_type": "code",
   "execution_count": null,
   "metadata": {},
   "outputs": [],
   "source": [
    "# Nesta célula, utilizaremos os o modelo testado anteriormente para descobrir quais seriam os,\n",
    "# melhores parâmetros para ele. Com o resultado do GridSearch aplicado, iremos rodar o modelo\n",
    "# novamente, só que com os hiperparâmetros desta vez.\n",
    "\n",
    "# adaboost é o modelo que foi treinado anteriormente, ele é armazenado na variável model para que\n",
    "# possamos utilizar o método GridSearch\n",
    "tuning_adaboost = adaboost\n",
    "\n",
    "# Cria o GridSearchCV\n",
    "adaboost_parameters_gs = {'n_estimators': [10, 30, 60, 80],\n",
    "              'algorithm': ['SAMME', 'SAMME.R']}\n",
    "\n",
    "modelAdaBoost_tuned = GridSearchCV(tuning_adaboost, adaboost_parameters_gs)\n",
    "\n",
    "# Treina os modelos e guarda na variável modelRanForest_tuned o melhor modelo\n",
    "modelAdaBoost_tuned.fit(x_train, y_train)\n",
    "modelAdaBoost_tuned.best_params_"
   ]
  },
  {
   "cell_type": "code",
   "execution_count": null,
   "metadata": {},
   "outputs": [],
   "source": [
    "print('Acuracidade (treino): ', modelAdaBoost_tuned.score( x_train, y_train ))\n",
    "print('Acuracidade (teste): ', modelAdaBoost_tuned.score( x_test, y_test ))"
   ]
  },
  {
   "cell_type": "code",
   "execution_count": null,
   "metadata": {},
   "outputs": [],
   "source": [
    "# Criando o modelo com hyperparâmetros\n",
    "BestModel_AdaBoost = AdaBoostClassifier(n_estimators = 80,\n",
    "                                                    algorithm = 'SAMME.R')\n",
    "\n",
    "BestModel_AdaBoost.fit(x_train, y_train)"
   ]
  },
  {
   "cell_type": "code",
   "execution_count": null,
   "metadata": {},
   "outputs": [],
   "source": [
    "y_pred_BestModel_AdaBoost = BestModel_AdaBoost.predict(x_test)\n",
    "cm_BestModel_AdaBoost = confusion_matrix(y_true, y_pred_BestModel_AdaBoost, normalize = 'true')\n",
    "\n",
    "modelAdaBoost_tuned = confusion_matrix(y_true, y_pred_BestModel_AdaBoost, normalize = 'true')\n",
    "cm_BestModel_AdaBoost"
   ]
  },
  {
   "cell_type": "code",
   "execution_count": null,
   "metadata": {},
   "outputs": [],
   "source": [
    "# versão visual da matriz\n",
    "disp_BestModel_Ranforest = ConfusionMatrixDisplay(confusion_matrix=cm_BestModel_RanForest, \n",
    "                            display_labels=BestModel_RanForest.classes_)\n",
    "\n",
    "disp_BestModel_RanForest.plot()\n",
    "plt.show()"
   ]
  },
  {
   "cell_type": "code",
   "execution_count": null,
   "metadata": {},
   "outputs": [],
   "source": [
    "print('Acuracidade (treino): ', BestModel_AdaBoost.score( x_train, y_train ))\n",
    "print('Acuracidade (teste): ', BestModel_AdaBoost.score( x_test, y_test ))"
   ]
  },
  {
   "cell_type": "code",
   "execution_count": null,
   "metadata": {},
   "outputs": [],
   "source": [
    "print(classification_report(y_test, y_pred_BestModel_AdaBoost))"
   ]
  },
  {
   "cell_type": "markdown",
   "metadata": {
    "id": "BvJJIgdBV368",
    "tags": []
   },
   "source": [
    "## Random Forest"
   ]
  },
  {
   "cell_type": "code",
   "execution_count": 14,
   "metadata": {
    "colab": {
     "base_uri": "https://localhost:8080/"
    },
    "executionInfo": {
     "elapsed": 35132,
     "status": "ok",
     "timestamp": 1664884768900,
     "user": {
      "displayName": "Joao Rodrigues",
      "userId": "06563068818173436791"
     },
     "user_tz": 180
    },
    "id": "NHhrGVuJV368",
    "outputId": "5b6461e5-3d73-4630-e68b-c140a6d331fd"
   },
   "outputs": [
    {
     "data": {
      "text/plain": [
       "RandomForestClassifier()"
      ]
     },
     "execution_count": 14,
     "metadata": {},
     "output_type": "execute_result"
    }
   ],
   "source": [
    "from sklearn.ensemble import RandomForestClassifier\n",
    "\n",
    "# Instaciação do obj Algoritmo\n",
    "ranfor = RandomForestClassifier()\n",
    "# Treino # x = Features, y = Label/Target\n",
    "ranfor.fit( x_train, y_train ) # squeeze() -> df para series"
   ]
  },
  {
   "cell_type": "code",
   "execution_count": null,
   "metadata": {
    "colab": {
     "base_uri": "https://localhost:8080/"
    },
    "executionInfo": {
     "elapsed": 5309,
     "status": "ok",
     "timestamp": 1664884774195,
     "user": {
      "displayName": "Joao Rodrigues",
      "userId": "06563068818173436791"
     },
     "user_tz": 180
    },
    "id": "Qnqco9RKV369",
    "outputId": "2a0270d1-57c1-4e70-fe9b-f1fff6f69ac6"
   },
   "outputs": [
    {
     "name": "stdout",
     "output_type": "stream",
     "text": [
      "Acuracidade (treino):  0.9999909279772111\n",
      "Acuracidade (teste):  0.8557608856713448\n"
     ]
    }
   ],
   "source": [
    "print('Acuracidade (treino): ', ranfor.score( x_train, y_train ))\n",
    "print('Acuracidade (teste): ', ranfor.score( x_test, y_test ))"
   ]
  },
  {
   "cell_type": "code",
   "execution_count": null,
   "metadata": {
    "id": "_R3T7GmjV369"
   },
   "outputs": [],
   "source": [
    "y_pred_ranfor = ranfor.predict(x_test)"
   ]
  },
  {
   "cell_type": "code",
   "execution_count": null,
   "metadata": {
    "colab": {
     "base_uri": "https://localhost:8080/"
    },
    "executionInfo": {
     "elapsed": 11,
     "status": "ok",
     "timestamp": 1663462467622,
     "user": {
      "displayName": "Mateus Almeida",
      "userId": "05861232968898431745"
     },
     "user_tz": 180
    },
    "id": "AHOSUw2NV369",
    "outputId": "936699c5-6a56-4c2f-e89a-37bbfe93e643"
   },
   "outputs": [
    {
     "data": {
      "text/plain": [
       "array([[9.92496589e-01, 1.70532060e-03, 5.79809004e-03],\n",
       "       [1.76195930e-04, 5.33873668e-01, 4.65950137e-01],\n",
       "       [0.00000000e+00, 4.93239193e-02, 9.50676081e-01]])"
      ]
     },
     "execution_count": 17,
     "metadata": {},
     "output_type": "execute_result"
    }
   ],
   "source": [
    "cm_ranfor = confusion_matrix(y_true, y_pred_ranfor, normalize = 'true')\n",
    "cm_ranfor"
   ]
  },
  {
   "cell_type": "code",
   "execution_count": null,
   "metadata": {
    "colab": {
     "base_uri": "https://localhost:8080/",
     "height": 279
    },
    "executionInfo": {
     "elapsed": 10,
     "status": "ok",
     "timestamp": 1663462467623,
     "user": {
      "displayName": "Mateus Almeida",
      "userId": "05861232968898431745"
     },
     "user_tz": 180
    },
    "id": "5LRr2C3RV369",
    "outputId": "48ad661f-fcfd-423a-a889-e2c9aeeefadf"
   },
   "outputs": [
    {
     "data": {
      "image/png": "[encoded data removed]",
      "text/plain": [
       "<Figure size 432x288 with 2 Axes>"
      ]
     },
     "metadata": {},
     "output_type": "display_data"
    }
   ],
   "source": [
    "# versão visual mais bonita da matriz\n",
    "disp_ranfor = ConfusionMatrixDisplay(confusion_matrix=cm_ranfor, \n",
    "                              display_labels=ranfor.classes_)\n",
    "\n",
    "disp_ranfor.plot()\n",
    "plt.show()"
   ]
  },
  {
   "cell_type": "code",
   "execution_count": null,
   "metadata": {
    "colab": {
     "base_uri": "https://localhost:8080/"
    },
    "executionInfo": {
     "elapsed": 407,
     "status": "ok",
     "timestamp": 1663462468022,
     "user": {
      "displayName": "Mateus Almeida",
      "userId": "05861232968898431745"
     },
     "user_tz": 180
    },
    "id": "7xK4QMU8V36-",
    "outputId": "d376dbab-0aa8-4b81-9d7b-22421bc1f949"
   },
   "outputs": [
    {
     "name": "stdout",
     "output_type": "stream",
     "text": [
      "              precision    recall  f1-score   support\n",
      "\n",
      "           0       1.00      0.99      1.00      5864\n",
      "           1       0.80      0.53      0.64     11351\n",
      "           2       0.84      0.95      0.89     30026\n",
      "\n",
      "    accuracy                           0.86     47241\n",
      "   macro avg       0.88      0.83      0.84     47241\n",
      "weighted avg       0.85      0.86      0.85     47241\n",
      "\n"
     ]
    }
   ],
   "source": [
    "print(classification_report(y_test, y_pred_ranfor))"
   ]
  },
  {
   "cell_type": "markdown",
   "metadata": {
    "tags": []
   },
   "source": [
    "### Alteração nos parâmetros do modelo Random Forest - Hiperparametrização do Modelo "
   ]
  },
  {
   "cell_type": "code",
   "execution_count": null,
   "metadata": {},
   "outputs": [],
   "source": [
    "# Nesta célula, utilizaremos os o modelo testado anteriormente para descobrir quais seriam os,\n",
    "# melhores parâmetros para ele. Com o resultado do GridSearch aplicado, iremos rodar o modelo\n",
    "# novamente, só que com os hiperparâmetros desta vez.\n",
    "\n",
    "# ranfor é o modelo que foi treinado anteriormente, ele é armazenado na variável model para que\n",
    "# possamos utilizar o método GridSearch\n",
    "tuning_ranforest = ranfor\n",
    "\n",
    "# Cria o GridSearchCV\n",
    "rf_parameters_gs = {'criterion': ['gini', 'entropy', 'log_loss'],\n",
    "              'max_depth': [6, 8],\n",
    "              'class_weight': ['balanced', 'balanced_subsample'],\n",
    "              'min_samples_leaf': [2, 4]}\n",
    "\n",
    "modelRanForest_tuned = GridSearchCV(tuning_ranforest, rf_parameters_gs)\n",
    "\n",
    "# Treina os modelos e guarda na variável modelRanForest_tuned o melhor modelo\n",
    "modelRanForest_tuned.fit(x_train, y_train)\n",
    "modelRanForest_tuned.best_params_"
   ]
  },
  {
   "cell_type": "code",
   "execution_count": null,
   "metadata": {},
   "outputs": [],
   "source": [
    "print('Acuracidade (treino): ', modelRanForest_tuned.score( x_train, y_train ))\n",
    "print('Acuracidade (teste): ', modelRanForest_tuned.score( x_test, y_test ))"
   ]
  },
  {
   "cell_type": "code",
   "execution_count": null,
   "metadata": {},
   "outputs": [],
   "source": [
    "# Criando o modelo com hyperparâmetros\n",
    "BestModel_RanForest = RandomForestClassifier(class_weight = 'balanced_subsample',\n",
    "                                                    max_depth = 8, min_samples_leaf = 2)\n",
    "\n",
    "BestModel_RanForest.fit(x_train, y_train)"
   ]
  },
  {
   "cell_type": "code",
   "execution_count": null,
   "metadata": {},
   "outputs": [],
   "source": [
    "y_pred_BestModel_RanForest = BestModel_RanForest.predict(x_test)\n",
    "cm_BestModel_RanForest = confusion_matrix(y_true, y_pred_BestModel_RanForest, normalize = 'true')\n",
    "\n",
    "modelRanForest_tuned = confusion_matrix(y_true, y_pred_BestModel_RanForest, normalize = 'true')\n",
    "cm_BestModel_RanForest"
   ]
  },
  {
   "cell_type": "code",
   "execution_count": null,
   "metadata": {},
   "outputs": [],
   "source": [
    "# versão visual da matriz\n",
    "disp_BestModel_Ranforest = ConfusionMatrixDisplay(confusion_matrix=cm_BestModel_RanForest, \n",
    "                            display_labels=BestModel_RanForest.classes_)\n",
    "\n",
    "disp_BestModel_RanForest.plot()\n",
    "plt.show()"
   ]
  },
  {
   "cell_type": "code",
   "execution_count": null,
   "metadata": {},
   "outputs": [],
   "source": [
    "print('Acuracidade (treino): ', BestModel_RanForest.score( x_train, y_train ))\n",
    "print('Acuracidade (teste): ', BestModel_RanForest.score( x_test, y_test ))"
   ]
  },
  {
   "cell_type": "code",
   "execution_count": null,
   "metadata": {},
   "outputs": [],
   "source": [
    "print(classification_report(y_test, y_pred_BestModel_RanForest))"
   ]
  },
  {
   "cell_type": "markdown",
   "metadata": {
    "id": "f3zH7IAYYKf-",
    "tags": []
   },
   "source": [
    "## LGBM"
   ]
  },
  {
   "cell_type": "code",
   "execution_count": 16,
   "metadata": {
    "colab": {
     "base_uri": "https://localhost:8080/"
    },
    "executionInfo": {
     "elapsed": 4554,
     "status": "ok",
     "timestamp": 1664884778734,
     "user": {
      "displayName": "Joao Rodrigues",
      "userId": "06563068818173436791"
     },
     "user_tz": 180
    },
    "id": "XzLM0sZZYMiE",
    "outputId": "85ffb2a0-cbba-436b-b59e-1d2b3762ef3f"
   },
   "outputs": [
    {
     "data": {
      "text/plain": [
       "LGBMClassifier()"
      ]
     },
     "execution_count": 16,
     "metadata": {},
     "output_type": "execute_result"
    }
   ],
   "source": [
    "import lightgbm as lgb\n",
    "\n",
    "# Criando o modelo\n",
    "\n",
    "lgb = LGBMClassifier()\n",
    "\n",
    "lgb.fit(x_train, y_train)\n"
   ]
  },
  {
   "cell_type": "code",
   "execution_count": 17,
   "metadata": {
    "colab": {
     "base_uri": "https://localhost:8080/"
    },
    "executionInfo": {
     "elapsed": 2070,
     "status": "ok",
     "timestamp": 1664884780795,
     "user": {
      "displayName": "Joao Rodrigues",
      "userId": "06563068818173436791"
     },
     "user_tz": 180
    },
    "id": "6ns_4qh4Yj_E",
    "outputId": "fd3f9b90-ca30-4c8d-e7a7-02a6550c9c69"
   },
   "outputs": [
    {
     "name": "stdout",
     "output_type": "stream",
     "text": [
      "Acuracidade (treino):  0.8724201435194006\n",
      "Acuracidade (teste):  0.8654981901314536\n"
     ]
    }
   ],
   "source": [
    "print('Acuracidade (treino): ', lgb.score( x_train, y_train ))\n",
    "print('Acuracidade (teste): ', lgb.score( x_test, y_test ))"
   ]
  },
  {
   "cell_type": "code",
   "execution_count": 18,
   "metadata": {
    "executionInfo": {
     "elapsed": 977,
     "status": "ok",
     "timestamp": 1664884781761,
     "user": {
      "displayName": "Joao Rodrigues",
      "userId": "06563068818173436791"
     },
     "user_tz": 180
    },
    "id": "Th2kp6_fYpwC"
   },
   "outputs": [],
   "source": [
    "y_pred_lgb = lgb.predict(x_test)"
   ]
  },
  {
   "cell_type": "code",
   "execution_count": 19,
   "metadata": {
    "colab": {
     "base_uri": "https://localhost:8080/"
    },
    "executionInfo": {
     "elapsed": 45,
     "status": "ok",
     "timestamp": 1664884781772,
     "user": {
      "displayName": "Joao Rodrigues",
      "userId": "06563068818173436791"
     },
     "user_tz": 180
    },
    "id": "f2QhHh2UYvzy",
    "outputId": "84f9cf1b-034a-4b57-9a11-b2bed8bbb7f7"
   },
   "outputs": [
    {
     "data": {
      "text/plain": [
       "array([[0.12141883, 0.18656207, 0.6920191 ],\n",
       "       [0.11769888, 0.18923443, 0.69306669],\n",
       "       [0.12116166, 0.18487311, 0.69396523]])"
      ]
     },
     "execution_count": 19,
     "metadata": {},
     "output_type": "execute_result"
    }
   ],
   "source": [
    "cm_lgb = confusion_matrix(y_true, y_pred_lgb, normalize = 'true')\n",
    "cm_lgb"
   ]
  },
  {
   "cell_type": "code",
   "execution_count": 20,
   "metadata": {
    "colab": {
     "base_uri": "https://localhost:8080/",
     "height": 279
    },
    "executionInfo": {
     "elapsed": 49,
     "status": "ok",
     "timestamp": 1664884781780,
     "user": {
      "displayName": "Joao Rodrigues",
      "userId": "06563068818173436791"
     },
     "user_tz": 180
    },
    "id": "W2GeXjmDZE8B",
    "outputId": "604b518b-94e9-4de9-a924-9c5459ef924f"
   },
   "outputs": [
    {
     "data": {
      "image/png": "[encoded data removed]",
      "text/plain": [
       "<Figure size 432x288 with 2 Axes>"
      ]
     },
     "metadata": {
      "needs_background": "light"
     },
     "output_type": "display_data"
    }
   ],
   "source": [
    "# versão visual mais bonita da matriz\n",
    "disp_lgb = ConfusionMatrixDisplay(confusion_matrix=cm_lgb, \n",
    "                                  display_labels=model.classes_)\n",
    "\n",
    "disp_lgb.plot()\n",
    "plt.show()"
   ]
  },
  {
   "cell_type": "code",
   "execution_count": 21,
   "metadata": {
    "colab": {
     "base_uri": "https://localhost:8080/"
    },
    "executionInfo": {
     "elapsed": 48,
     "status": "ok",
     "timestamp": 1664884781782,
     "user": {
      "displayName": "Joao Rodrigues",
      "userId": "06563068818173436791"
     },
     "user_tz": 180
    },
    "id": "Avl1wHy8ZZGQ",
    "outputId": "16051185-f405-4f7e-ed47-c6ce93f0ddbf"
   },
   "outputs": [
    {
     "name": "stdout",
     "output_type": "stream",
     "text": [
      "              precision    recall  f1-score   support\n",
      "\n",
      "           0       1.00      0.99      1.00      5710\n",
      "           1       0.79      0.61      0.69     11439\n",
      "           2       0.86      0.94      0.90     30092\n",
      "\n",
      "    accuracy                           0.87     47241\n",
      "   macro avg       0.88      0.85      0.86     47241\n",
      "weighted avg       0.86      0.87      0.86     47241\n",
      "\n"
     ]
    }
   ],
   "source": [
    "print(classification_report(y_test, y_pred_lgb))"
   ]
  },
  {
   "cell_type": "markdown",
   "metadata": {
    "id": "pVG4wDRUcwBi",
    "tags": []
   },
   "source": [
    "### Alteração nos parâmetros do modelo LGBM - Hiperparametrização do Modelo"
   ]
  },
  {
   "cell_type": "code",
   "execution_count": null,
   "metadata": {
    "id": "cmFex4NBEAzp"
   },
   "outputs": [],
   "source": [
    "# Nesta célula, utilizaremos os o modelo testado anteriormente para descobrir quais seriam os,\n",
    "# melhores parâmetros para ele. Com o resultado do GridSearch aplicado, iremos rodar o modelo\n",
    "# novamente, só que com os hiperparâmetros desta vez.\n",
    "\n",
    "# lgb é o modelo que foi treinado anteriormente, ele é armazenado na variável model para que\n",
    "# possamos utilizar o método GridSearch\n",
    "tuning_lgb = lgb \n",
    "\n",
    "# Cria o GridSearchCV\n",
    "lgbm_parameters_gs = {\n",
    "    'boosting_type':['gbdt','dart','goss','rf'], \n",
    "    'num_leaves':[42,31],\n",
    "    'max_depth':range(-3,0),\n",
    "    'n_estimators':[80,100,200,120]\n",
    "    }\n",
    "modelLGBM_tuned = GridSearchCV(tuning_lgb, lgbm_parameters_gs)\n",
    "\n",
    "# Treina os modelos e guarda na variável modelGS o melhor modelo\n",
    "modelLGBM_tuned.fit(x_train, y_train)\n",
    "modelLGBM_tuned.best_params_"
   ]
  },
  {
   "cell_type": "code",
   "execution_count": null,
   "metadata": {
    "id": "n5AcHnoinwzx"
   },
   "outputs": [],
   "source": [
    "print('Acuracidade (treino): ', modelLGBM_tuned.score( x_train, y_train ))\n",
    "print('Acuracidade (teste): ', modelLGBM_tuned.score( x_test, y_test ))"
   ]
  },
  {
   "cell_type": "code",
   "execution_count": 22,
   "metadata": {
    "colab": {
     "base_uri": "https://localhost:8080/"
    },
    "executionInfo": {
     "elapsed": 11590,
     "status": "ok",
     "timestamp": 1664884793335,
     "user": {
      "displayName": "Joao Rodrigues",
      "userId": "06563068818173436791"
     },
     "user_tz": 180
    },
    "id": "xg__fdOArNyy",
    "outputId": "d1b25dc3-6d3d-4e84-e8ce-c9c4d9789c88",
    "tags": []
   },
   "outputs": [
    {
     "data": {
      "text/plain": [
       "LGBMClassifier(max_depth=-3, n_estimators=200, num_leaves=42,\n",
       "               objective='multiclass')"
      ]
     },
     "execution_count": 22,
     "metadata": {},
     "output_type": "execute_result"
    }
   ],
   "source": [
    "# Criando o modelo com hyperparâmetros\n",
    "BestModel_LGBM = LGBMClassifier(objective='multiclass',num_leaves=42,max_depth=-3,n_estimators=200)\n",
    "\n",
    "BestModel_LGBM.fit(x_train, y_train)"
   ]
  },
  {
   "cell_type": "code",
   "execution_count": 23,
   "metadata": {
    "colab": {
     "base_uri": "https://localhost:8080/"
    },
    "executionInfo": {
     "elapsed": 1065,
     "status": "ok",
     "timestamp": 1664884794379,
     "user": {
      "displayName": "Joao Rodrigues",
      "userId": "06563068818173436791"
     },
     "user_tz": 180
    },
    "id": "D8i9PQJ8plHF",
    "outputId": "92bfdaab-ee02-445c-a3c8-6f140b1251ca"
   },
   "outputs": [
    {
     "data": {
      "text/plain": [
       "array([[0.12141883, 0.19218963, 0.68639154],\n",
       "       [0.11769888, 0.19275835, 0.68954277],\n",
       "       [0.12112836, 0.19043496, 0.68843669]])"
      ]
     },
     "execution_count": 23,
     "metadata": {},
     "output_type": "execute_result"
    }
   ],
   "source": [
    "y_pred_BestModel_LGBM = BestModel_LGBM.predict(x_test)\n",
    "cm_BestModel_LGBM = confusion_matrix(y_true, y_pred_BestModel_LGBM, normalize = 'true')\n",
    "\n",
    "modelLGBM_tuned = confusion_matrix(y_true, y_pred_BestModel_LGBM, normalize = 'true')\n",
    "cm_BestModel_LGBM"
   ]
  },
  {
   "cell_type": "code",
   "execution_count": 24,
   "metadata": {
    "colab": {
     "base_uri": "https://localhost:8080/",
     "height": 279
    },
    "executionInfo": {
     "elapsed": 37,
     "status": "ok",
     "timestamp": 1664884794390,
     "user": {
      "displayName": "Joao Rodrigues",
      "userId": "06563068818173436791"
     },
     "user_tz": 180
    },
    "id": "kgGI3NSXp6tC",
    "outputId": "42d049c5-a0d8-4424-90e3-eb3b83bc8df1"
   },
   "outputs": [
    {
     "data": {
      "image/png": "[encoded data removed]",
      "text/plain": [
       "<Figure size 432x288 with 2 Axes>"
      ]
     },
     "metadata": {
      "needs_background": "light"
     },
     "output_type": "display_data"
    }
   ],
   "source": [
    "# versão visual da matriz\n",
    "disp_BestModel_LGBM = ConfusionMatrixDisplay(confusion_matrix=cm_BestModel_LGBM, \n",
    "                            display_labels=BestModel_LGBM.classes_)\n",
    "\n",
    "disp_BestModel_LGBM.plot()\n",
    "plt.show()"
   ]
  },
  {
   "cell_type": "code",
   "execution_count": 25,
   "metadata": {
    "colab": {
     "base_uri": "https://localhost:8080/"
    },
    "executionInfo": {
     "elapsed": 1241,
     "status": "ok",
     "timestamp": 1664884795597,
     "user": {
      "displayName": "Joao Rodrigues",
      "userId": "06563068818173436791"
     },
     "user_tz": 180
    },
    "id": "UrH85YiZsc3D",
    "outputId": "e88a1206-f6f1-4685-a2fe-6ac9f397155f"
   },
   "outputs": [
    {
     "name": "stdout",
     "output_type": "stream",
     "text": [
      "Acuracidade (treino):  0.8857106569051701\n",
      "Acuracidade (teste):  0.8689697508520141\n"
     ]
    }
   ],
   "source": [
    "print('Acuracidade (treino): ', BestModel_LGBM.score( x_train, y_train ))\n",
    "print('Acuracidade (teste): ', BestModel_LGBM.score( x_test, y_test ))"
   ]
  },
  {
   "cell_type": "code",
   "execution_count": null,
   "metadata": {},
   "outputs": [],
   "source": [
    "print(classification_report(y_test, y_pred_BestModel_LGBM))"
   ]
  },
  {
   "cell_type": "markdown",
   "metadata": {
    "id": "p_Hp4XAEiZK9",
    "jp-MarkdownHeadingCollapsed": true,
    "tags": []
   },
   "source": [
    "# Seção de Balanceamento e Reavaliação dos Modelos\n",
    "\n",
    "Nesta seção será utilizado um método de redoção amostral com base na classe majoritária (Undersampling), com o qual pretende-se obter um melhor resultado de revocação para os modelos considerados."
   ]
  },
  {
   "cell_type": "markdown",
   "metadata": {},
   "source": [
    "## Balanceamento dos dados - Método UnderSampling"
   ]
  },
  {
   "cell_type": "code",
   "execution_count": 26,
   "metadata": {
    "executionInfo": {
     "elapsed": 9,
     "status": "ok",
     "timestamp": 1664884795598,
     "user": {
      "displayName": "Joao Rodrigues",
      "userId": "06563068818173436791"
     },
     "user_tz": 180
    },
    "id": "4bRQWGF2icfS"
   },
   "outputs": [],
   "source": [
    "# Redução da classe de maior prevalecência no target \n",
    "from imblearn.under_sampling import RandomUnderSampler\n",
    "\n",
    "rus = RandomUnderSampler(random_state=13)\n",
    "x_resampled, y_resampled = rus.fit_resample(x, y)"
   ]
  },
  {
   "cell_type": "code",
   "execution_count": 27,
   "metadata": {
    "executionInfo": {
     "elapsed": 1095,
     "status": "ok",
     "timestamp": 1664884796685,
     "user": {
      "displayName": "Joao Rodrigues",
      "userId": "06563068818173436791"
     },
     "user_tz": 180
    },
    "id": "vLdjnQWcwzCO"
   },
   "outputs": [],
   "source": [
    "x_train1, x_test1, y_train1, y_test1 = train_test_split(x_resampled, y_resampled, \n",
    "                                                    test_size = 0.3, \n",
    "                                                    random_state = 1)"
   ]
  },
  {
   "cell_type": "code",
   "execution_count": 28,
   "metadata": {
    "executionInfo": {
     "elapsed": 40,
     "status": "ok",
     "timestamp": 1664884796696,
     "user": {
      "displayName": "Joao Rodrigues",
      "userId": "06563068818173436791"
     },
     "user_tz": 180
    },
    "id": "2XvirewJwzQw"
   },
   "outputs": [],
   "source": [
    "# Instaciando o objeto scaler\n",
    "scaler1 = MinMaxScaler()\n",
    "\n",
    "# Fit + transform no conjunto de treino\n",
    "# Utilizando explicitamente as colunas de ambos os lados força que o\n",
    "# resultado da normalização ainda seja o dataframe (muito mais facil de manipular) e não um numpy array\n",
    "x_train1[list(x_train1.columns)] = scaler1.fit_transform(x_train1[list(x_train1.columns)])\n",
    "\n",
    "# Agora utilizando o scaler no conjunto de teste\n",
    "# Utilizar apenas o transform, pois fit é só no conjunto de treino,]\n",
    "# o conjunto de teste é utilizado para medir a capacidade de generalização do modelo no mundo real (dados não vistos)\n",
    "# então faz sentido que a mesma normalização treinada e submetida ao conjunto de treino seja apenas aplicada no de teste\n",
    "x_test1[list(x_test1.columns)] = scaler1.transform(x_test1[list(x_test1.columns)])"
   ]
  },
  {
   "cell_type": "code",
   "execution_count": 29,
   "metadata": {
    "colab": {
     "base_uri": "https://localhost:8080/"
    },
    "executionInfo": {
     "elapsed": 42,
     "status": "ok",
     "timestamp": 1664884796698,
     "user": {
      "displayName": "Joao Rodrigues",
      "userId": "06563068818173436791"
     },
     "user_tz": 180
    },
    "id": "AI-MY6gMwyug",
    "outputId": "975dbf5e-5ac2-490f-d385-595fd27ce48e"
   },
   "outputs": [
    {
     "data": {
      "text/plain": [
       "46267     2\n",
       "141493    0\n",
       "126779    2\n",
       "146212    0\n",
       "62926     2\n",
       "         ..\n",
       "141448    0\n",
       "62426     1\n",
       "149489    0\n",
       "25940     1\n",
       "70083     2\n",
       "Name: IS_ACTIVE, Length: 110229, dtype: int64"
      ]
     },
     "execution_count": 29,
     "metadata": {},
     "output_type": "execute_result"
    }
   ],
   "source": [
    "y_train1.squeeze()"
   ]
  },
  {
   "cell_type": "code",
   "execution_count": 30,
   "metadata": {
    "executionInfo": {
     "elapsed": 47,
     "status": "ok",
     "timestamp": 1664884796707,
     "user": {
      "displayName": "Joao Rodrigues",
      "userId": "06563068818173436791"
     },
     "user_tz": 180
    },
    "id": "_GAnOtacxN4Z"
   },
   "outputs": [],
   "source": [
    "y_true1 = y_test1"
   ]
  },
  {
   "cell_type": "markdown",
   "metadata": {
    "id": "Zes8rJvYjKbk",
    "tags": []
   },
   "source": [
    "### Adaboost\n",
    "\n"
   ]
  },
  {
   "cell_type": "code",
   "execution_count": null,
   "metadata": {
    "id": "e0IAgK8njKbq"
   },
   "outputs": [],
   "source": [
    "BestModel_AdaBoost.fit( x_train1, y_train1.squeeze() ) # squeeze() -> df para series"
   ]
  },
  {
   "cell_type": "code",
   "execution_count": null,
   "metadata": {
    "id": "GtiIV7vmjKbq"
   },
   "outputs": [],
   "source": [
    "print('Acuracidade (treino): ', BestModel_AdaBoost.score( x_train1, y_train1 ))\n",
    "print('Acuracidade (teste): ', BestModel_AdaBoost.score( x_test1, y_test1 ))"
   ]
  },
  {
   "cell_type": "code",
   "execution_count": null,
   "metadata": {
    "id": "2cN8OMjcjKbq"
   },
   "outputs": [],
   "source": [
    "y_pred_BestModel_AdaBoost1 = BestModel_AdaBoost.predict(x_test1)"
   ]
  },
  {
   "cell_type": "code",
   "execution_count": null,
   "metadata": {
    "id": "I5AI3af1jKbq"
   },
   "outputs": [],
   "source": [
    "cm_BestModel_AdaBoost1 = confusion_matrix(y_true1, y_pred_BestModel_AdaBoost1, normalize = 'true')\n",
    "\n",
    "cm_BestModel_AdaBoost1"
   ]
  },
  {
   "cell_type": "code",
   "execution_count": null,
   "metadata": {
    "id": "fxf6EazyjKbq"
   },
   "outputs": [],
   "source": [
    "# versão visual mais bonita da matriz\n",
    "disp_BestModel_AdaBoost1 = ConfusionMatrixDisplay(confusion_matrix=cm_BestModel_AdaBoost1, \n",
    "                              display_labels=BestModel_AdaBoost.classes_)\n",
    "\n",
    "disp_BestModel_AdaBoost1.plot()\n",
    "plt.show()"
   ]
  },
  {
   "cell_type": "code",
   "execution_count": null,
   "metadata": {
    "id": "ezL4lH49jKbq"
   },
   "outputs": [],
   "source": [
    "print(classification_report(y_test1, y_pred_BestModel_AdaBoost1 ))"
   ]
  },
  {
   "cell_type": "markdown",
   "metadata": {
    "id": "gM-BLmx3ikUZ",
    "tags": []
   },
   "source": [
    "### Random Forest\n"
   ]
  },
  {
   "cell_type": "code",
   "execution_count": null,
   "metadata": {
    "id": "Bp8SnFJzikUa"
   },
   "outputs": [],
   "source": [
    "BestModel_RanForest.fit( x_train1, y_train1 ) # squeeze() -> df para series"
   ]
  },
  {
   "cell_type": "code",
   "execution_count": null,
   "metadata": {
    "id": "mbB6Qbn3ikUa"
   },
   "outputs": [],
   "source": [
    "print('Acuracidade (treino): ', BestModel_RanForest.score( x_train1, y_train1 ))\n",
    "print('Acuracidade (teste): ', BestModel_RanForest.score( x_test1, y_test1 ))"
   ]
  },
  {
   "cell_type": "code",
   "execution_count": null,
   "metadata": {
    "id": "hGzZoCScikUa"
   },
   "outputs": [],
   "source": [
    "y_pred_BestModel_RanForest1 = BestModel_RanForest.predict(x_test1)"
   ]
  },
  {
   "cell_type": "code",
   "execution_count": null,
   "metadata": {
    "id": "YqtjhDZ1ikUb"
   },
   "outputs": [],
   "source": [
    "cm_BestModel_RanForest1 = confusion_matrix(y_true1, y_pred_BestModel_RanForest1, normalize = 'true')\n",
    "cm_BestModel_RanForest1"
   ]
  },
  {
   "cell_type": "code",
   "execution_count": null,
   "metadata": {
    "id": "6d-zV1_CikUb"
   },
   "outputs": [],
   "source": [
    "# versão visual mais bonita da matriz\n",
    "disp_BestModel_RanForest1 = ConfusionMatrixDisplay(confusion_matrix=cm_BestModel_RanForest1, \n",
    "                             display_labels=BestModel_RanForest.classes_)\n",
    "\n",
    "disp_BestModel_RanForest1.plot()\n",
    "plt.show()"
   ]
  },
  {
   "cell_type": "code",
   "execution_count": null,
   "metadata": {
    "id": "iBl8UNVDikUb"
   },
   "outputs": [],
   "source": [
    "print(classification_report(y_test1, y_pred_BestModel_RanForest1))"
   ]
  },
  {
   "cell_type": "markdown",
   "metadata": {
    "id": "U3NA6eURhm98",
    "tags": []
   },
   "source": [
    "### LGB"
   ]
  },
  {
   "cell_type": "code",
   "execution_count": 32,
   "metadata": {
    "colab": {
     "base_uri": "https://localhost:8080/"
    },
    "executionInfo": {
     "elapsed": 8587,
     "status": "ok",
     "timestamp": 1664884805839,
     "user": {
      "displayName": "Joao Rodrigues",
      "userId": "06563068818173436791"
     },
     "user_tz": 180
    },
    "id": "Eno07tOldNB9",
    "outputId": "69611b00-2a63-4fd0-e7e9-fb0aa7a82e35"
   },
   "outputs": [
    {
     "data": {
      "text/plain": [
       "LGBMClassifier(max_depth=-3, n_estimators=200, num_leaves=42,\n",
       "               objective='multiclass')"
      ]
     },
     "execution_count": 32,
     "metadata": {},
     "output_type": "execute_result"
    }
   ],
   "source": [
    "BestModel_LGBM.fit(x_train1, y_train1)"
   ]
  },
  {
   "cell_type": "code",
   "execution_count": 33,
   "metadata": {
    "colab": {
     "base_uri": "https://localhost:8080/"
    },
    "executionInfo": {
     "elapsed": 4559,
     "status": "ok",
     "timestamp": 1664884810391,
     "user": {
      "displayName": "Joao Rodrigues",
      "userId": "06563068818173436791"
     },
     "user_tz": 180
    },
    "id": "i6h5mB8OdNB9",
    "outputId": "375f5dc5-e99a-4723-807e-3420299b447f"
   },
   "outputs": [
    {
     "name": "stdout",
     "output_type": "stream",
     "text": [
      "Acuracidade (treino):  0.8867448675031072\n",
      "Acuracidade (teste):  0.8694142799686713\n"
     ]
    }
   ],
   "source": [
    "print('Acuracidade (treino): ', BestModel_LGBM.score( x_train1, y_train1 ))\n",
    "print('Acuracidade (teste): ', BestModel_LGBM.score( x_test1, y_test1 ))"
   ]
  },
  {
   "cell_type": "code",
   "execution_count": 34,
   "metadata": {
    "executionInfo": {
     "elapsed": 2887,
     "status": "ok",
     "timestamp": 1664884813264,
     "user": {
      "displayName": "Joao Rodrigues",
      "userId": "06563068818173436791"
     },
     "user_tz": 180
    },
    "id": "Hc46_swtdNB9"
   },
   "outputs": [],
   "source": [
    "y_pred_BestModel_LGBM1 = BestModel_LGBM.predict(x_test1) "
   ]
  },
  {
   "cell_type": "code",
   "execution_count": 35,
   "metadata": {
    "colab": {
     "base_uri": "https://localhost:8080/"
    },
    "executionInfo": {
     "elapsed": 42,
     "status": "ok",
     "timestamp": 1664884813270,
     "user": {
      "displayName": "Joao Rodrigues",
      "userId": "06563068818173436791"
     },
     "user_tz": 180
    },
    "id": "RTjUKGYydNB-",
    "outputId": "4a5dcc6c-86fa-4f82-d16e-7bdeeda9e55c"
   },
   "outputs": [
    {
     "data": {
      "text/plain": [
       "array([[9.92317094e-01, 2.26994936e-03, 5.41295617e-03],\n",
       "       [1.75916967e-04, 6.23537690e-01, 3.76286393e-01],\n",
       "       [1.99037983e-04, 6.10051418e-02, 9.38795820e-01]])"
      ]
     },
     "execution_count": 35,
     "metadata": {},
     "output_type": "execute_result"
    }
   ],
   "source": [
    "cm_BestModel_LGBM1 = confusion_matrix(y_true1, y_pred_BestModel_LGBM1, normalize = 'true')\n",
    "\n",
    "cm_BestModel_LGBM1"
   ]
  },
  {
   "cell_type": "code",
   "execution_count": 36,
   "metadata": {
    "colab": {
     "base_uri": "https://localhost:8080/",
     "height": 279
    },
    "executionInfo": {
     "elapsed": 38,
     "status": "ok",
     "timestamp": 1664884813272,
     "user": {
      "displayName": "Joao Rodrigues",
      "userId": "06563068818173436791"
     },
     "user_tz": 180
    },
    "id": "i8_1frgDdNB-",
    "outputId": "3bc7b8c7-c1ea-4533-a169-fca69ef7468b"
   },
   "outputs": [
    {
     "data": {
      "image/png": "[encoded data removed]",
      "text/plain": [
       "<Figure size 432x288 with 2 Axes>"
      ]
     },
     "metadata": {
      "needs_background": "light"
     },
     "output_type": "display_data"
    }
   ],
   "source": [
    "# versão visual mais bonita da matriz\n",
    "disp_BestModel_LGBM1 = ConfusionMatrixDisplay(confusion_matrix=cm_BestModel_LGBM1, \n",
    "                              display_labels=BestModel.classes_)\n",
    "\n",
    "disp_BestModel_LGBM1.plot()\n",
    "plt.show()"
   ]
  },
  {
   "cell_type": "code",
   "execution_count": null,
   "metadata": {},
   "outputs": [],
   "source": [
    "print(classification_report(y_test1, y_pred_BestModel_LGBM1))"
   ]
  },
  {
   "cell_type": "code",
   "execution_count": null,
   "metadata": {},
   "outputs": [],
   "source": []
  }
 ],
 "metadata": {
  "colab": {
   "collapsed_sections": [],
   "provenance": [],
   "toc_visible": true
  },
  "kernelspec": {
   "display_name": "Python 3 (ipykernel)",
   "language": "python",
   "name": "python3"
  },
  "language_info": {
   "codemirror_mode": {
    "name": "ipython",
    "version": 3
   },
   "file_extension": ".py",
   "mimetype": "text/x-python",
   "name": "python",
   "nbconvert_exporter": "python",
   "pygments_lexer": "ipython3",
   "version": "3.10.5"
  }
 },
 "nbformat": 4,
 "nbformat_minor": 4
}
